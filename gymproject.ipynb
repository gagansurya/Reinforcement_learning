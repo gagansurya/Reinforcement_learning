# -*- coding: utf-8 -*-
"""
Spyder Editor

This is a temporary script file.
"""

import gymnasium as gym

import time
env = gym.make("FrozenLake-v1", render_mode = "human")
env.reset()

env.render()
time.sleep(20)
# print the states

print(env.observation_space)


#print the transition proobs of a state p(s'/s,a) give the  prob of moving to
# states from state s by performing action  on a
#syntax : p [state][action]
print(env.P[2][3])
# output is of form : trans_prob, nextstate, reward is terminal


#perofrm a deterministic action step 0,1,2,3
print("Deterministic Action:")
samp=env.action_space.sample()
(next_state, reward,done, transn_prob,info) = env.step(samp)

print("next state is :{0}, Reward is : {1}, Is a terminal state is : {2}".format(next_state,reward,done))

env.render()
time.sleep(10)

env.reset()
num_timesteps = 20

for i in range(num_timesteps):
    rnd_action = env.action_space.sample()
    next_state, reward, done, info, transn_prob = env.step(rnd_action)
    print("Next state is : {0}, Reward is : {1}, Is a terminal State is : {2}".format(i+1, next_state, reward, done,))
    env.render()
    time.sleep(10)
    if done:
        break
env.close()